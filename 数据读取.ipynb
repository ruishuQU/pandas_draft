{
 "cells": [
  {
   "cell_type": "markdown",
   "id": "6bfae735",
   "metadata": {},
   "source": [
    "# 1 数据读取"
   ]
  },
  {
   "cell_type": "markdown",
   "id": "a4099d45",
   "metadata": {},
   "source": [
    "## 1 表格类型"
   ]
  },
  {
   "cell_type": "raw",
   "id": "bf2648b6",
   "metadata": {},
   "source": [
    "csv|tsv|txt|        pd.read_csv\n",
    "\n",
    "excel|xls|xlsx      pd.read_excel\n",
    " \n",
    "mysql            pd.read_sql"
   ]
  },
  {
   "cell_type": "code",
   "execution_count": null,
   "id": "85358e99",
   "metadata": {},
   "outputs": [],
   "source": []
  }
 ],
 "metadata": {
  "hide_input": false,
  "kernelspec": {
   "display_name": "Python 3 (ipykernel)",
   "language": "python",
   "name": "python3"
  },
  "language_info": {
   "codemirror_mode": {
    "name": "ipython",
    "version": 3
   },
   "file_extension": ".py",
   "mimetype": "text/x-python",
   "name": "python",
   "nbconvert_exporter": "python",
   "pygments_lexer": "ipython3",
   "version": "3.7.4"
  }
 },
 "nbformat": 4,
 "nbformat_minor": 5
}
