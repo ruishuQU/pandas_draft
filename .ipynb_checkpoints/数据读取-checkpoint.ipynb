{
 "cells": [
  {
   "cell_type": "markdown",
   "id": "e3c88f51",
   "metadata": {},
   "source": [
    "# 1 数据读取"
   ]
  },
  {
   "cell_type": "markdown",
   "id": "0af92a67",
   "metadata": {},
   "source": [
    "## 1 表格类型"
   ]
  },
  {
   "cell_type": "markdown",
   "id": "9d8678b2",
   "metadata": {},
   "source": [
    "csv|tsv|txt|  pd.read_csv\n",
    "excel|xls|xlsx  pd.read_excel\n",
    "mysql  pd.read_sql"
   ]
  }
 ],
 "metadata": {
  "hide_input": false,
  "kernelspec": {
   "display_name": "Python 3 (ipykernel)",
   "language": "python",
   "name": "python3"
  },
  "language_info": {
   "codemirror_mode": {
    "name": "ipython",
    "version": 3
   },
   "file_extension": ".py",
   "mimetype": "text/x-python",
   "name": "python",
   "nbconvert_exporter": "python",
   "pygments_lexer": "ipython3",
   "version": "3.7.4"
  }
 },
 "nbformat": 4,
 "nbformat_minor": 5
}
